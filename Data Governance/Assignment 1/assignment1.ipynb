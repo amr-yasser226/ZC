{
 "cells": [
  {
   "cell_type": "markdown",
   "id": "935b025a",
   "metadata": {},
   "source": [
    "Problem 1"
   ]
  },
  {
   "cell_type": "code",
   "execution_count": 20,
   "id": "15308ae4",
   "metadata": {},
   "outputs": [
    {
     "name": "stdout",
     "output_type": "stream",
     "text": [
      "SHA-256 Hashed Password:\n",
      "bc7b8851671f2fda237a53f5057a0376037b6d062e65f965c62aa1d047498759\n"
     ]
    }
   ],
   "source": [
    "import hashlib\n",
    "\n",
    "p = \"MyPassword123\"\n",
    "hashed_password = hashlib.sha256(p.encode(\"utf-8\")).hexdigest()\n",
    "\n",
    "print(\"SHA-256 Hashed Password:\")\n",
    "print(hashed_password)"
   ]
  },
  {
   "cell_type": "markdown",
   "id": "a291e467",
   "metadata": {},
   "source": [
    "Problem 2"
   ]
  },
  {
   "cell_type": "code",
   "execution_count": 19,
   "id": "2b114ade",
   "metadata": {},
   "outputs": [
    {
     "name": "stdout",
     "output_type": "stream",
     "text": [
      "Generated Fake User Profile:\n",
      "Name   : Elizabeth Larson\n",
      "Email  : mnorman@example.net\n",
      "Address:\n",
      "USCGC Gonzalez\n",
      "FPO AE 53819\n"
     ]
    }
   ],
   "source": [
    "from faker import Faker\n",
    "\n",
    "faker = Faker()\n",
    "fake_name = faker.name()\n",
    "fake_email = faker.email()\n",
    "fake_address = faker.address()\n",
    "\n",
    "print(\"Generated Fake User Profile:\")\n",
    "print(f\"Name   : {fake_name}\")\n",
    "print(f\"Email  : {fake_email}\")\n",
    "print(f\"Address:\\n{fake_address}\")"
   ]
  },
  {
   "cell_type": "markdown",
   "id": "f6b3e7c7",
   "metadata": {},
   "source": [
    "Problem 3"
   ]
  },
  {
   "cell_type": "code",
   "execution_count": 18,
   "id": "aca5815a",
   "metadata": {},
   "outputs": [
    {
     "name": "stdout",
     "output_type": "stream",
     "text": [
      "************1098\n",
      "************4444\n",
      "************8888\n",
      "****5678\n"
     ]
    }
   ],
   "source": [
    "def mask_cc(card_number):\n",
    "    card_number = str(card_number)\n",
    "    masked_part = \"*\" * (len(card_number) - 4)\n",
    "    visible_part = card_number[-4:]\n",
    "    return masked_part + visible_part\n",
    "\n",
    "print(mask_cc(\"4321987654321098\"))\n",
    "print(mask_cc(\"1111222233334444\"))\n",
    "print(mask_cc(\"5555666677778888\"))\n",
    "print(mask_cc(\"12345678\"))"
   ]
  },
  {
   "cell_type": "markdown",
   "id": "0580bbdd",
   "metadata": {},
   "source": [
    "Problem 4"
   ]
  },
  {
   "cell_type": "code",
   "execution_count": 15,
   "id": "a0d19879",
   "metadata": {},
   "outputs": [
    {
     "name": "stdout",
     "output_type": "stream",
     "text": [
      "Anonymized Employee Data:\n",
      "   Age  Salary\n",
      "0   25   50000\n",
      "1   30   60000\n",
      "2   35   70000\n"
     ]
    }
   ],
   "source": [
    "import pandas as pd\n",
    "\n",
    "employee_data = {\n",
    "    \"Name\": [\"Alice\", \"Bob\", \"Charlie\"],\n",
    "    \"Age\": [25, 30, 35],\n",
    "    \"Salary\": [50000, 60000, 70000]\n",
    "}\n",
    "df = pd.DataFrame(employee_data)\n",
    "df_without_names = df.drop(columns=[\"Name\"])\n",
    "print(\"Anonymized Employee Data:\")\n",
    "print(df_without_names)"
   ]
  },
  {
   "cell_type": "markdown",
   "id": "c9874205",
   "metadata": {},
   "source": [
    "Problem 5"
   ]
  },
  {
   "cell_type": "code",
   "execution_count": 16,
   "id": "e5a06ccc",
   "metadata": {},
   "outputs": [
    {
     "name": "stdout",
     "output_type": "stream",
     "text": [
      "Updated user info: {'id': 101, 'name': 'User101'}\n"
     ]
    }
   ],
   "source": [
    "user_info = {\n",
    "    \"id\": 101,\n",
    "    \"name\": \"Alice Johnson\"\n",
    "}\n",
    "custom_label = f\"User{user_info['id']}\"\n",
    "user_info[\"name\"] = custom_label\n",
    "\n",
    "print(\"Updated user info:\", user_info)"
   ]
  }
 ],
 "metadata": {
  "kernelspec": {
   "display_name": "Python 3 (ipykernel)",
   "language": "python",
   "name": "python3"
  },
  "language_info": {
   "codemirror_mode": {
    "name": "ipython",
    "version": 3
   },
   "file_extension": ".py",
   "mimetype": "text/x-python",
   "name": "python",
   "nbconvert_exporter": "python",
   "pygments_lexer": "ipython3",
   "version": "3.12.10"
  }
 },
 "nbformat": 4,
 "nbformat_minor": 5
}
